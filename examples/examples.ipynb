{
 "cells": [
  {
   "cell_type": "code",
   "execution_count": 12,
   "id": "d9873fbe-4120-4551-b088-ce4af5bcd45d",
   "metadata": {},
   "outputs": [],
   "source": [
    "import pandas as pd\n",
    "import numpy as np\n",
    "import matplotlib.pyplot as plt"
   ]
  },
  {
   "cell_type": "code",
   "execution_count": 2,
   "id": "76f5da9a-e716-458c-903f-618827265e21",
   "metadata": {},
   "outputs": [],
   "source": [
    "from casedi_test.survival import ase_compare_survival\n",
    "from casedi_test.expression import ase_compare_expression\n",
    "from casedi_test.enrichment import ase_compare_groups"
   ]
  },
  {
   "cell_type": "code",
   "execution_count": 26,
   "id": "1e0dd0df-97d1-46de-9bcc-f2d6b68afdae",
   "metadata": {},
   "outputs": [
    {
     "name": "stdout",
     "output_type": "stream",
     "text": [
      "Defaulting to user installation because normal site-packages is not writeable\n",
      "Looking in indexes: https://test.pypi.org/simple/\n",
      "Collecting casedi-test\n",
      "  Downloading https://test-files.pythonhosted.org/packages/52/e0/30231172014d095107020ba37c720dfc1685b6dfb8cbd6de949d22b2544d/casedi_test-0.0.7-py3-none-any.whl (8.1 kB)\n",
      "Installing collected packages: casedi-test\n",
      "  Attempting uninstall: casedi-test\n",
      "    Found existing installation: casedi-test 0.0.6\n",
      "    Uninstalling casedi-test-0.0.6:\n",
      "      Successfully uninstalled casedi-test-0.0.6\n",
      "Successfully installed casedi-test-0.0.7\n"
     ]
    }
   ],
   "source": [
    "!python3 -m pip install --upgrade --force-reinstall --index-url https://test.pypi.org/simple/ --no-deps casedi-test"
   ]
  },
  {
   "cell_type": "markdown",
   "id": "4498138b-3906-42b6-b465-a1028917aee7",
   "metadata": {},
   "source": [
    "# Examples using CASEDI on toy data"
   ]
  },
  {
   "cell_type": "markdown",
   "id": "620b5f74-9f97-4e75-b54b-336891ab82fe",
   "metadata": {},
   "source": [
    "## Expression difference between samples showing ASE and BAE"
   ]
  },
  {
   "cell_type": "markdown",
   "id": "1931db45-e511-406a-9def-e8f85fc6890e",
   "metadata": {},
   "source": [
    "Generating an example table with ASE data for gene A for 20 tumor samples, where half of samples show ASE and half show BAE"
   ]
  },
  {
   "cell_type": "code",
   "execution_count": 3,
   "id": "3f47ccc1-6c8b-4aaf-84d8-4d9aaa1c0d86",
   "metadata": {},
   "outputs": [
    {
     "data": {
      "text/html": [
       "<div>\n",
       "<style scoped>\n",
       "    .dataframe tbody tr th:only-of-type {\n",
       "        vertical-align: middle;\n",
       "    }\n",
       "\n",
       "    .dataframe tbody tr th {\n",
       "        vertical-align: top;\n",
       "    }\n",
       "\n",
       "    .dataframe thead th {\n",
       "        text-align: right;\n",
       "    }\n",
       "</style>\n",
       "<table border=\"1\" class=\"dataframe\">\n",
       "  <thead>\n",
       "    <tr style=\"text-align: right;\">\n",
       "      <th></th>\n",
       "      <th>gene</th>\n",
       "      <th>ase</th>\n",
       "      <th>sampleID</th>\n",
       "    </tr>\n",
       "  </thead>\n",
       "  <tbody>\n",
       "    <tr>\n",
       "      <th>0</th>\n",
       "      <td>A</td>\n",
       "      <td>0</td>\n",
       "      <td>0</td>\n",
       "    </tr>\n",
       "    <tr>\n",
       "      <th>1</th>\n",
       "      <td>A</td>\n",
       "      <td>0</td>\n",
       "      <td>1</td>\n",
       "    </tr>\n",
       "    <tr>\n",
       "      <th>2</th>\n",
       "      <td>A</td>\n",
       "      <td>0</td>\n",
       "      <td>2</td>\n",
       "    </tr>\n",
       "    <tr>\n",
       "      <th>3</th>\n",
       "      <td>A</td>\n",
       "      <td>0</td>\n",
       "      <td>3</td>\n",
       "    </tr>\n",
       "    <tr>\n",
       "      <th>4</th>\n",
       "      <td>A</td>\n",
       "      <td>0</td>\n",
       "      <td>4</td>\n",
       "    </tr>\n",
       "    <tr>\n",
       "      <th>5</th>\n",
       "      <td>A</td>\n",
       "      <td>0</td>\n",
       "      <td>5</td>\n",
       "    </tr>\n",
       "    <tr>\n",
       "      <th>6</th>\n",
       "      <td>A</td>\n",
       "      <td>0</td>\n",
       "      <td>6</td>\n",
       "    </tr>\n",
       "    <tr>\n",
       "      <th>7</th>\n",
       "      <td>A</td>\n",
       "      <td>0</td>\n",
       "      <td>7</td>\n",
       "    </tr>\n",
       "    <tr>\n",
       "      <th>8</th>\n",
       "      <td>A</td>\n",
       "      <td>0</td>\n",
       "      <td>8</td>\n",
       "    </tr>\n",
       "    <tr>\n",
       "      <th>9</th>\n",
       "      <td>A</td>\n",
       "      <td>0</td>\n",
       "      <td>9</td>\n",
       "    </tr>\n",
       "    <tr>\n",
       "      <th>10</th>\n",
       "      <td>A</td>\n",
       "      <td>1</td>\n",
       "      <td>10</td>\n",
       "    </tr>\n",
       "    <tr>\n",
       "      <th>11</th>\n",
       "      <td>A</td>\n",
       "      <td>1</td>\n",
       "      <td>11</td>\n",
       "    </tr>\n",
       "    <tr>\n",
       "      <th>12</th>\n",
       "      <td>A</td>\n",
       "      <td>1</td>\n",
       "      <td>12</td>\n",
       "    </tr>\n",
       "    <tr>\n",
       "      <th>13</th>\n",
       "      <td>A</td>\n",
       "      <td>1</td>\n",
       "      <td>13</td>\n",
       "    </tr>\n",
       "    <tr>\n",
       "      <th>14</th>\n",
       "      <td>A</td>\n",
       "      <td>1</td>\n",
       "      <td>14</td>\n",
       "    </tr>\n",
       "    <tr>\n",
       "      <th>15</th>\n",
       "      <td>A</td>\n",
       "      <td>1</td>\n",
       "      <td>15</td>\n",
       "    </tr>\n",
       "    <tr>\n",
       "      <th>16</th>\n",
       "      <td>A</td>\n",
       "      <td>1</td>\n",
       "      <td>16</td>\n",
       "    </tr>\n",
       "    <tr>\n",
       "      <th>17</th>\n",
       "      <td>A</td>\n",
       "      <td>1</td>\n",
       "      <td>17</td>\n",
       "    </tr>\n",
       "    <tr>\n",
       "      <th>18</th>\n",
       "      <td>A</td>\n",
       "      <td>1</td>\n",
       "      <td>18</td>\n",
       "    </tr>\n",
       "    <tr>\n",
       "      <th>19</th>\n",
       "      <td>A</td>\n",
       "      <td>1</td>\n",
       "      <td>19</td>\n",
       "    </tr>\n",
       "  </tbody>\n",
       "</table>\n",
       "</div>"
      ],
      "text/plain": [
       "   gene  ase  sampleID\n",
       "0     A    0         0\n",
       "1     A    0         1\n",
       "2     A    0         2\n",
       "3     A    0         3\n",
       "4     A    0         4\n",
       "5     A    0         5\n",
       "6     A    0         6\n",
       "7     A    0         7\n",
       "8     A    0         8\n",
       "9     A    0         9\n",
       "10    A    1        10\n",
       "11    A    1        11\n",
       "12    A    1        12\n",
       "13    A    1        13\n",
       "14    A    1        14\n",
       "15    A    1        15\n",
       "16    A    1        16\n",
       "17    A    1        17\n",
       "18    A    1        18\n",
       "19    A    1        19"
      ]
     },
     "execution_count": 3,
     "metadata": {},
     "output_type": "execute_result"
    }
   ],
   "source": [
    "ase_table = pd.DataFrame({'gene': np.repeat('A',20),\n",
    "                         'ase': np.concatenate([np.repeat(0,10),np.repeat(1,10)]),\n",
    "                         'sampleID': np.arange(0,20,1) \n",
    "                         })\n",
    "ase_table"
   ]
  },
  {
   "cell_type": "markdown",
   "id": "1bd89b89-ab10-45db-ac12-a696c7d37a1b",
   "metadata": {},
   "source": [
    "Generate gene expression table of samples x genes with normalized expression values"
   ]
  },
  {
   "cell_type": "code",
   "execution_count": 6,
   "id": "5e07e2de-5e64-4c95-a058-d08e86540a96",
   "metadata": {},
   "outputs": [
    {
     "data": {
      "text/html": [
       "<div>\n",
       "<style scoped>\n",
       "    .dataframe tbody tr th:only-of-type {\n",
       "        vertical-align: middle;\n",
       "    }\n",
       "\n",
       "    .dataframe tbody tr th {\n",
       "        vertical-align: top;\n",
       "    }\n",
       "\n",
       "    .dataframe thead th {\n",
       "        text-align: right;\n",
       "    }\n",
       "</style>\n",
       "<table border=\"1\" class=\"dataframe\">\n",
       "  <thead>\n",
       "    <tr style=\"text-align: right;\">\n",
       "      <th></th>\n",
       "      <th>A</th>\n",
       "    </tr>\n",
       "  </thead>\n",
       "  <tbody>\n",
       "    <tr>\n",
       "      <th>0</th>\n",
       "      <td>0</td>\n",
       "    </tr>\n",
       "    <tr>\n",
       "      <th>1</th>\n",
       "      <td>6</td>\n",
       "    </tr>\n",
       "    <tr>\n",
       "      <th>2</th>\n",
       "      <td>6</td>\n",
       "    </tr>\n",
       "    <tr>\n",
       "      <th>3</th>\n",
       "      <td>7</td>\n",
       "    </tr>\n",
       "    <tr>\n",
       "      <th>4</th>\n",
       "      <td>3</td>\n",
       "    </tr>\n",
       "    <tr>\n",
       "      <th>5</th>\n",
       "      <td>2</td>\n",
       "    </tr>\n",
       "    <tr>\n",
       "      <th>6</th>\n",
       "      <td>4</td>\n",
       "    </tr>\n",
       "    <tr>\n",
       "      <th>7</th>\n",
       "      <td>3</td>\n",
       "    </tr>\n",
       "    <tr>\n",
       "      <th>8</th>\n",
       "      <td>5</td>\n",
       "    </tr>\n",
       "    <tr>\n",
       "      <th>9</th>\n",
       "      <td>2</td>\n",
       "    </tr>\n",
       "    <tr>\n",
       "      <th>10</th>\n",
       "      <td>7</td>\n",
       "    </tr>\n",
       "    <tr>\n",
       "      <th>11</th>\n",
       "      <td>8</td>\n",
       "    </tr>\n",
       "    <tr>\n",
       "      <th>12</th>\n",
       "      <td>6</td>\n",
       "    </tr>\n",
       "    <tr>\n",
       "      <th>13</th>\n",
       "      <td>8</td>\n",
       "    </tr>\n",
       "    <tr>\n",
       "      <th>14</th>\n",
       "      <td>7</td>\n",
       "    </tr>\n",
       "    <tr>\n",
       "      <th>15</th>\n",
       "      <td>5</td>\n",
       "    </tr>\n",
       "    <tr>\n",
       "      <th>16</th>\n",
       "      <td>7</td>\n",
       "    </tr>\n",
       "    <tr>\n",
       "      <th>17</th>\n",
       "      <td>9</td>\n",
       "    </tr>\n",
       "    <tr>\n",
       "      <th>18</th>\n",
       "      <td>6</td>\n",
       "    </tr>\n",
       "    <tr>\n",
       "      <th>19</th>\n",
       "      <td>6</td>\n",
       "    </tr>\n",
       "  </tbody>\n",
       "</table>\n",
       "</div>"
      ],
      "text/plain": [
       "    A\n",
       "0   0\n",
       "1   6\n",
       "2   6\n",
       "3   7\n",
       "4   3\n",
       "5   2\n",
       "6   4\n",
       "7   3\n",
       "8   5\n",
       "9   2\n",
       "10  7\n",
       "11  8\n",
       "12  6\n",
       "13  8\n",
       "14  7\n",
       "15  5\n",
       "16  7\n",
       "17  9\n",
       "18  6\n",
       "19  6"
      ]
     },
     "execution_count": 6,
     "metadata": {},
     "output_type": "execute_result"
    }
   ],
   "source": [
    "expr = np.concatenate([np.random.randint(0,10,10),np.random.randint(5,10,10)])\n",
    "expression_table = pd.DataFrame({'A': expr})\n",
    "expression_table"
   ]
  },
  {
   "cell_type": "markdown",
   "id": "34a95cf8-52ba-4894-bcbb-b486f96bcb5e",
   "metadata": {},
   "source": [
    "Test if samples showing ASE for gene A have different overall expression than samples showing BAE"
   ]
  },
  {
   "cell_type": "code",
   "execution_count": 7,
   "id": "c80b0fe0-3bb9-434b-a233-f692f7f72f8f",
   "metadata": {},
   "outputs": [
    {
     "data": {
      "text/plain": [
       "MannwhitneyuResult(statistic=89.0, pvalue=0.0031957347007828857)"
      ]
     },
     "execution_count": 7,
     "metadata": {},
     "output_type": "execute_result"
    }
   ],
   "source": [
    "ase_compare_expression(gene=\"A\", ase_table=ase_table, expression_table=expression_table, alternative='two-sided')"
   ]
  },
  {
   "cell_type": "markdown",
   "id": "aac4b104-6f43-4012-bd02-8a8573224def",
   "metadata": {},
   "source": [
    "## Survival difference between samples showing ASE and BAE"
   ]
  },
  {
   "cell_type": "markdown",
   "id": "68e3da4d-781b-4927-8bdd-c284209a7e1e",
   "metadata": {},
   "source": [
    "Generate a table with survival times and statuses for each sample. You can use overall survival, progression-free survival, etc."
   ]
  },
  {
   "cell_type": "code",
   "execution_count": 67,
   "id": "cbe43234-7d78-40c9-8eb2-0ef0fa80bf55",
   "metadata": {},
   "outputs": [
    {
     "data": {
      "text/html": [
       "<div>\n",
       "<style scoped>\n",
       "    .dataframe tbody tr th:only-of-type {\n",
       "        vertical-align: middle;\n",
       "    }\n",
       "\n",
       "    .dataframe tbody tr th {\n",
       "        vertical-align: top;\n",
       "    }\n",
       "\n",
       "    .dataframe thead th {\n",
       "        text-align: right;\n",
       "    }\n",
       "</style>\n",
       "<table border=\"1\" class=\"dataframe\">\n",
       "  <thead>\n",
       "    <tr style=\"text-align: right;\">\n",
       "      <th></th>\n",
       "      <th>survival_time</th>\n",
       "      <th>survival_status</th>\n",
       "    </tr>\n",
       "  </thead>\n",
       "  <tbody>\n",
       "    <tr>\n",
       "      <th>0</th>\n",
       "      <td>0</td>\n",
       "      <td>0</td>\n",
       "    </tr>\n",
       "    <tr>\n",
       "      <th>1</th>\n",
       "      <td>2</td>\n",
       "      <td>1</td>\n",
       "    </tr>\n",
       "    <tr>\n",
       "      <th>2</th>\n",
       "      <td>4</td>\n",
       "      <td>1</td>\n",
       "    </tr>\n",
       "    <tr>\n",
       "      <th>3</th>\n",
       "      <td>6</td>\n",
       "      <td>1</td>\n",
       "    </tr>\n",
       "    <tr>\n",
       "      <th>4</th>\n",
       "      <td>8</td>\n",
       "      <td>1</td>\n",
       "    </tr>\n",
       "    <tr>\n",
       "      <th>5</th>\n",
       "      <td>10</td>\n",
       "      <td>1</td>\n",
       "    </tr>\n",
       "    <tr>\n",
       "      <th>6</th>\n",
       "      <td>12</td>\n",
       "      <td>1</td>\n",
       "    </tr>\n",
       "    <tr>\n",
       "      <th>7</th>\n",
       "      <td>14</td>\n",
       "      <td>1</td>\n",
       "    </tr>\n",
       "    <tr>\n",
       "      <th>8</th>\n",
       "      <td>16</td>\n",
       "      <td>1</td>\n",
       "    </tr>\n",
       "    <tr>\n",
       "      <th>9</th>\n",
       "      <td>18</td>\n",
       "      <td>1</td>\n",
       "    </tr>\n",
       "    <tr>\n",
       "      <th>10</th>\n",
       "      <td>0</td>\n",
       "      <td>0</td>\n",
       "    </tr>\n",
       "    <tr>\n",
       "      <th>11</th>\n",
       "      <td>1</td>\n",
       "      <td>1</td>\n",
       "    </tr>\n",
       "    <tr>\n",
       "      <th>12</th>\n",
       "      <td>2</td>\n",
       "      <td>1</td>\n",
       "    </tr>\n",
       "    <tr>\n",
       "      <th>13</th>\n",
       "      <td>3</td>\n",
       "      <td>1</td>\n",
       "    </tr>\n",
       "    <tr>\n",
       "      <th>14</th>\n",
       "      <td>4</td>\n",
       "      <td>1</td>\n",
       "    </tr>\n",
       "    <tr>\n",
       "      <th>15</th>\n",
       "      <td>5</td>\n",
       "      <td>1</td>\n",
       "    </tr>\n",
       "    <tr>\n",
       "      <th>16</th>\n",
       "      <td>6</td>\n",
       "      <td>1</td>\n",
       "    </tr>\n",
       "    <tr>\n",
       "      <th>17</th>\n",
       "      <td>7</td>\n",
       "      <td>1</td>\n",
       "    </tr>\n",
       "    <tr>\n",
       "      <th>18</th>\n",
       "      <td>8</td>\n",
       "      <td>1</td>\n",
       "    </tr>\n",
       "    <tr>\n",
       "      <th>19</th>\n",
       "      <td>9</td>\n",
       "      <td>1</td>\n",
       "    </tr>\n",
       "  </tbody>\n",
       "</table>\n",
       "</div>"
      ],
      "text/plain": [
       "    survival_time  survival_status\n",
       "0               0                0\n",
       "1               2                1\n",
       "2               4                1\n",
       "3               6                1\n",
       "4               8                1\n",
       "5              10                1\n",
       "6              12                1\n",
       "7              14                1\n",
       "8              16                1\n",
       "9              18                1\n",
       "10              0                0\n",
       "11              1                1\n",
       "12              2                1\n",
       "13              3                1\n",
       "14              4                1\n",
       "15              5                1\n",
       "16              6                1\n",
       "17              7                1\n",
       "18              8                1\n",
       "19              9                1"
      ]
     },
     "execution_count": 67,
     "metadata": {},
     "output_type": "execute_result"
    }
   ],
   "source": [
    "times = np.concatenate([np.arange(0, 20, 2),np.arange(0, 10, 1)])\n",
    "survival_table = pd.DataFrame({'survival_time': times, \n",
    "                               'survival_status': np.concatenate([[0],np.repeat(1,9),[0],np.repeat(1,9)]), # 0 for no event, 1 for event\n",
    "                              })\n",
    "survival_table"
   ]
  },
  {
   "cell_type": "markdown",
   "id": "5b991eed-9100-4cc8-9b89-345ff66004d1",
   "metadata": {},
   "source": [
    "Perform log-rank test to test for difference in survival between samples showing ASE and BAE for gene A"
   ]
  },
  {
   "cell_type": "code",
   "execution_count": 69,
   "id": "6439ee1b-4d6e-4285-87ce-693caa6cc322",
   "metadata": {},
   "outputs": [
    {
     "data": {
      "text/plain": [
       "(6.063519058408218, 0.013800242446541905)"
      ]
     },
     "execution_count": 69,
     "metadata": {},
     "output_type": "execute_result"
    }
   ],
   "source": [
    "ase_compare_survival(gene='A',\n",
    "                     ase_table=ase_table,\n",
    "                     survival_table=survival_table\n",
    "                     )"
   ]
  },
  {
   "cell_type": "markdown",
   "id": "491cc0fd-fe93-4434-974d-c6b003a257a0",
   "metadata": {},
   "source": [
    "Plot Kaplan-Meier"
   ]
  },
  {
   "cell_type": "code",
   "execution_count": 70,
   "id": "3e470739-66cb-4e5f-9ab8-26182e268cb0",
   "metadata": {},
   "outputs": [
    {
     "data": {
      "text/plain": [
       "(0.0, 20.0)"
      ]
     },
     "execution_count": 70,
     "metadata": {},
     "output_type": "execute_result"
    },
    {
     "data": {
      "image/png": "[encoded data removed]",
      "text/plain": [
       "<Figure size 600x525 with 1 Axes>"
      ]
     },
     "metadata": {
      "needs_background": "light"
     },
     "output_type": "display_data"
    }
   ],
   "source": [
    "ase_compare_survival(gene='A',\n",
    "                     ase_table=ase_table,\n",
    "                     survival_table=survival_table,\n",
    "                     plot=True\n",
    "                     )\n",
    "plt.xlim(0,20)"
   ]
  },
  {
   "cell_type": "markdown",
   "id": "379eda72-ce87-4ffb-b2ae-c33e4b83ecb7",
   "metadata": {},
   "source": [
    "Further stratify by ASE and high expression"
   ]
  },
  {
   "cell_type": "code",
   "execution_count": 71,
   "id": "4e809ae9-d829-4cd6-975c-210b3570ad29",
   "metadata": {},
   "outputs": [
    {
     "data": {
      "text/plain": [
       "(6.231008985680835, 0.012553218858161578)"
      ]
     },
     "execution_count": 71,
     "metadata": {},
     "output_type": "execute_result"
    }
   ],
   "source": [
    "ase_compare_survival(gene='A',\n",
    "                     ase_table=ase_table,\n",
    "                     survival_table=survival_table,\n",
    "                     stratify_expression='ase high',\n",
    "                     expression_table=expression_table,\n",
    "                     )"
   ]
  },
  {
   "cell_type": "code",
   "execution_count": 72,
   "id": "7435b467-c652-4c4e-964e-e90131489954",
   "metadata": {},
   "outputs": [
    {
     "data": {
      "text/plain": [
       "<matplotlib.legend.Legend at 0x7f67d7056610>"
      ]
     },
     "execution_count": 72,
     "metadata": {},
     "output_type": "execute_result"
    },
    {
     "data": {
      "image/png": "[encoded data removed]",
      "text/plain": [
       "<Figure size 600x525 with 1 Axes>"
      ]
     },
     "metadata": {
      "needs_background": "light"
     },
     "output_type": "display_data"
    }
   ],
   "source": [
    "ase_compare_survival(gene='A',\n",
    "                     ase_table=ase_table,\n",
    "                     survival_table=survival_table,\n",
    "                     stratify_expression='ase high',\n",
    "                     expression_table=expression_table,\n",
    "                     plot=True\n",
    "                     )\n",
    "plt.legend(bbox_to_anchor=(1,1))"
   ]
  },
  {
   "cell_type": "markdown",
   "id": "852e1db5-8517-40a7-beb6-edd80f9a58de",
   "metadata": {},
   "source": [
    "## Enrichment analysis between two subgroups"
   ]
  },
  {
   "cell_type": "markdown",
   "id": "096d69a9-be58-408c-b784-4ed324ab38d6",
   "metadata": {},
   "source": [
    "Example: Tumors 0-9 have a gene fusion in gene A and tumors 10-19 do not. Group 1 will be fusion positive tumors, group 2 will be fusion negative tumors"
   ]
  },
  {
   "cell_type": "code",
   "execution_count": 15,
   "id": "be100093-7e43-4ae7-a050-3c17874618fb",
   "metadata": {},
   "outputs": [
    {
     "name": "stdout",
     "output_type": "stream",
     "text": [
      "mat1 genes showing ASE:  0\n",
      "mat1 total genes:  1\n",
      "mat2 genes showing ASE:  1\n",
      "mat2 total genes:  1\n",
      "testing 1 genes\n"
     ]
    },
    {
     "data": {
      "text/html": [
       "<div>\n",
       "<style scoped>\n",
       "    .dataframe tbody tr th:only-of-type {\n",
       "        vertical-align: middle;\n",
       "    }\n",
       "\n",
       "    .dataframe tbody tr th {\n",
       "        vertical-align: top;\n",
       "    }\n",
       "\n",
       "    .dataframe thead th {\n",
       "        text-align: right;\n",
       "    }\n",
       "</style>\n",
       "<table border=\"1\" class=\"dataframe\">\n",
       "  <thead>\n",
       "    <tr style=\"text-align: right;\">\n",
       "      <th></th>\n",
       "      <th>group1_ASE</th>\n",
       "      <th>group1_total</th>\n",
       "      <th>group2_ASE</th>\n",
       "      <th>group2_total</th>\n",
       "      <th>group1_BAE</th>\n",
       "      <th>group2_BAE</th>\n",
       "      <th>odds_ratio</th>\n",
       "      <th>p_val</th>\n",
       "      <th>FDR</th>\n",
       "    </tr>\n",
       "  </thead>\n",
       "  <tbody>\n",
       "    <tr>\n",
       "      <th>A</th>\n",
       "      <td>0.0</td>\n",
       "      <td>10</td>\n",
       "      <td>10</td>\n",
       "      <td>10</td>\n",
       "      <td>10.0</td>\n",
       "      <td>0</td>\n",
       "      <td>0.0</td>\n",
       "      <td>0.000011</td>\n",
       "      <td>0.000011</td>\n",
       "    </tr>\n",
       "  </tbody>\n",
       "</table>\n",
       "</div>"
      ],
      "text/plain": [
       "   group1_ASE  group1_total  group2_ASE  group2_total  group1_BAE  group2_BAE  \\\n",
       "A         0.0            10          10            10        10.0           0   \n",
       "\n",
       "   odds_ratio     p_val       FDR  \n",
       "A         0.0  0.000011  0.000011  "
      ]
     },
     "execution_count": 15,
     "metadata": {},
     "output_type": "execute_result"
    }
   ],
   "source": [
    "ase_compare_groups(ase_table=ase_table,\n",
    "                   group1_ids=np.arange(0,10,1),\n",
    "                   group2_ids=np.arange(10,20,1),\n",
    "                   testable_fraction=0.1\n",
    "                   )"
   ]
  }
 ],
 "metadata": {
  "kernelspec": {
   "display_name": "Python 3",
   "language": "python",
   "name": "python3"
  },
  "language_info": {
   "codemirror_mode": {
    "name": "ipython",
    "version": 3
   },
   "file_extension": ".py",
   "mimetype": "text/x-python",
   "name": "python",
   "nbconvert_exporter": "python",
   "pygments_lexer": "ipython3",
   "version": "3.9.5"
  }
 },
 "nbformat": 4,
 "nbformat_minor": 5
}
